{
 "cells": [
  {
   "cell_type": "markdown",
   "id": "a5ebd4a6-40b4-407e-b3bf-a9a86dd8878e",
   "metadata": {},
   "source": [
    "# Análise Dataset - UCI - BANK"
   ]
  },
  {
   "cell_type": "code",
   "execution_count": 1,
   "id": "56e0390e-3ef7-479b-b6f0-f3541d6c4497",
   "metadata": {},
   "outputs": [],
   "source": [
    "## import das bibliotecas iniciais\n",
    "\n",
    "import pandas as pd\n",
    "import numpy as np"
   ]
  },
  {
   "cell_type": "markdown",
   "id": "9de7167b-5e94-45ee-89df-ddb7f062d509",
   "metadata": {},
   "source": [
    "Link para baixar os dados: https://archive.ics.uci.edu/dataset/222/bank+marketing"
   ]
  },
  {
   "cell_type": "code",
   "execution_count": 2,
   "id": "d110e2b2-0c5b-4fbe-b476-03859ff1526b",
   "metadata": {},
   "outputs": [
    {
     "name": "stdout",
     "output_type": "stream",
     "text": [
      "Esse dataset contém 4521 linhas e 17 colunas\n"
     ]
    },
    {
     "data": {
      "text/html": [
       "<div>\n",
       "<style scoped>\n",
       "    .dataframe tbody tr th:only-of-type {\n",
       "        vertical-align: middle;\n",
       "    }\n",
       "\n",
       "    .dataframe tbody tr th {\n",
       "        vertical-align: top;\n",
       "    }\n",
       "\n",
       "    .dataframe thead th {\n",
       "        text-align: right;\n",
       "    }\n",
       "</style>\n",
       "<table border=\"1\" class=\"dataframe\">\n",
       "  <thead>\n",
       "    <tr style=\"text-align: right;\">\n",
       "      <th></th>\n",
       "      <th>age</th>\n",
       "      <th>job</th>\n",
       "      <th>marital</th>\n",
       "      <th>education</th>\n",
       "      <th>default</th>\n",
       "      <th>balance</th>\n",
       "      <th>housing</th>\n",
       "      <th>loan</th>\n",
       "      <th>contact</th>\n",
       "      <th>day</th>\n",
       "      <th>month</th>\n",
       "      <th>duration</th>\n",
       "      <th>campaign</th>\n",
       "      <th>pdays</th>\n",
       "      <th>previous</th>\n",
       "      <th>poutcome</th>\n",
       "      <th>y</th>\n",
       "    </tr>\n",
       "  </thead>\n",
       "  <tbody>\n",
       "    <tr>\n",
       "      <th>0</th>\n",
       "      <td>30</td>\n",
       "      <td>unemployed</td>\n",
       "      <td>married</td>\n",
       "      <td>primary</td>\n",
       "      <td>no</td>\n",
       "      <td>1787</td>\n",
       "      <td>no</td>\n",
       "      <td>no</td>\n",
       "      <td>cellular</td>\n",
       "      <td>19</td>\n",
       "      <td>oct</td>\n",
       "      <td>79</td>\n",
       "      <td>1</td>\n",
       "      <td>-1</td>\n",
       "      <td>0</td>\n",
       "      <td>unknown</td>\n",
       "      <td>no</td>\n",
       "    </tr>\n",
       "    <tr>\n",
       "      <th>1</th>\n",
       "      <td>33</td>\n",
       "      <td>services</td>\n",
       "      <td>married</td>\n",
       "      <td>secondary</td>\n",
       "      <td>no</td>\n",
       "      <td>4789</td>\n",
       "      <td>yes</td>\n",
       "      <td>yes</td>\n",
       "      <td>cellular</td>\n",
       "      <td>11</td>\n",
       "      <td>may</td>\n",
       "      <td>220</td>\n",
       "      <td>1</td>\n",
       "      <td>339</td>\n",
       "      <td>4</td>\n",
       "      <td>failure</td>\n",
       "      <td>no</td>\n",
       "    </tr>\n",
       "    <tr>\n",
       "      <th>2</th>\n",
       "      <td>35</td>\n",
       "      <td>management</td>\n",
       "      <td>single</td>\n",
       "      <td>tertiary</td>\n",
       "      <td>no</td>\n",
       "      <td>1350</td>\n",
       "      <td>yes</td>\n",
       "      <td>no</td>\n",
       "      <td>cellular</td>\n",
       "      <td>16</td>\n",
       "      <td>apr</td>\n",
       "      <td>185</td>\n",
       "      <td>1</td>\n",
       "      <td>330</td>\n",
       "      <td>1</td>\n",
       "      <td>failure</td>\n",
       "      <td>no</td>\n",
       "    </tr>\n",
       "    <tr>\n",
       "      <th>3</th>\n",
       "      <td>30</td>\n",
       "      <td>management</td>\n",
       "      <td>married</td>\n",
       "      <td>tertiary</td>\n",
       "      <td>no</td>\n",
       "      <td>1476</td>\n",
       "      <td>yes</td>\n",
       "      <td>yes</td>\n",
       "      <td>unknown</td>\n",
       "      <td>3</td>\n",
       "      <td>jun</td>\n",
       "      <td>199</td>\n",
       "      <td>4</td>\n",
       "      <td>-1</td>\n",
       "      <td>0</td>\n",
       "      <td>unknown</td>\n",
       "      <td>no</td>\n",
       "    </tr>\n",
       "    <tr>\n",
       "      <th>4</th>\n",
       "      <td>59</td>\n",
       "      <td>blue-collar</td>\n",
       "      <td>married</td>\n",
       "      <td>secondary</td>\n",
       "      <td>no</td>\n",
       "      <td>0</td>\n",
       "      <td>yes</td>\n",
       "      <td>no</td>\n",
       "      <td>unknown</td>\n",
       "      <td>5</td>\n",
       "      <td>may</td>\n",
       "      <td>226</td>\n",
       "      <td>1</td>\n",
       "      <td>-1</td>\n",
       "      <td>0</td>\n",
       "      <td>unknown</td>\n",
       "      <td>no</td>\n",
       "    </tr>\n",
       "  </tbody>\n",
       "</table>\n",
       "</div>"
      ],
      "text/plain": [
       "   age          job  marital  education default  balance housing loan  \\\n",
       "0   30   unemployed  married    primary      no     1787      no   no   \n",
       "1   33     services  married  secondary      no     4789     yes  yes   \n",
       "2   35   management   single   tertiary      no     1350     yes   no   \n",
       "3   30   management  married   tertiary      no     1476     yes  yes   \n",
       "4   59  blue-collar  married  secondary      no        0     yes   no   \n",
       "\n",
       "    contact  day month  duration  campaign  pdays  previous poutcome   y  \n",
       "0  cellular   19   oct        79         1     -1         0  unknown  no  \n",
       "1  cellular   11   may       220         1    339         4  failure  no  \n",
       "2  cellular   16   apr       185         1    330         1  failure  no  \n",
       "3   unknown    3   jun       199         4     -1         0  unknown  no  \n",
       "4   unknown    5   may       226         1     -1         0  unknown  no  "
      ]
     },
     "execution_count": 2,
     "metadata": {},
     "output_type": "execute_result"
    }
   ],
   "source": [
    "## importando dataset\n",
    "\n",
    "df = pd.read_csv(r'C:\\Users\\pasch\\Desktop\\CURSOS\\CLUBE_DS_ASSINATURA\\Estudos_Individuais\\PROJETOS_EBOOK\\02\\dados\\UCI Machine Learning Repository - Bank.csv', sep=';')\n",
    "\n",
    "print(f'Esse dataset contém {df.shape[0]} linhas e {df.shape[1]} colunas')\n",
    "df.head()"
   ]
  },
  {
   "cell_type": "markdown",
   "id": "0e421fea-5f7f-4401-945b-05298e6f3442",
   "metadata": {},
   "source": [
    "## 01 - Análises Descritivas Iniciais "
   ]
  },
  {
   "cell_type": "code",
   "execution_count": 3,
   "id": "e9177512-f51a-4eea-b5bb-5fc4198a95b3",
   "metadata": {},
   "outputs": [
    {
     "data": {
      "text/html": [
       "<div>\n",
       "<style scoped>\n",
       "    .dataframe tbody tr th:only-of-type {\n",
       "        vertical-align: middle;\n",
       "    }\n",
       "\n",
       "    .dataframe tbody tr th {\n",
       "        vertical-align: top;\n",
       "    }\n",
       "\n",
       "    .dataframe thead th {\n",
       "        text-align: right;\n",
       "    }\n",
       "</style>\n",
       "<table border=\"1\" class=\"dataframe\">\n",
       "  <thead>\n",
       "    <tr style=\"text-align: right;\">\n",
       "      <th></th>\n",
       "      <th>age</th>\n",
       "      <th>balance</th>\n",
       "      <th>day</th>\n",
       "      <th>duration</th>\n",
       "      <th>campaign</th>\n",
       "      <th>pdays</th>\n",
       "      <th>previous</th>\n",
       "    </tr>\n",
       "  </thead>\n",
       "  <tbody>\n",
       "    <tr>\n",
       "      <th>count</th>\n",
       "      <td>4521.000000</td>\n",
       "      <td>4521.000000</td>\n",
       "      <td>4521.000000</td>\n",
       "      <td>4521.000000</td>\n",
       "      <td>4521.000000</td>\n",
       "      <td>4521.000000</td>\n",
       "      <td>4521.000000</td>\n",
       "    </tr>\n",
       "    <tr>\n",
       "      <th>mean</th>\n",
       "      <td>41.170095</td>\n",
       "      <td>1422.657819</td>\n",
       "      <td>15.915284</td>\n",
       "      <td>263.961292</td>\n",
       "      <td>2.793630</td>\n",
       "      <td>39.766645</td>\n",
       "      <td>0.542579</td>\n",
       "    </tr>\n",
       "    <tr>\n",
       "      <th>std</th>\n",
       "      <td>10.576211</td>\n",
       "      <td>3009.638142</td>\n",
       "      <td>8.247667</td>\n",
       "      <td>259.856633</td>\n",
       "      <td>3.109807</td>\n",
       "      <td>100.121124</td>\n",
       "      <td>1.693562</td>\n",
       "    </tr>\n",
       "    <tr>\n",
       "      <th>min</th>\n",
       "      <td>19.000000</td>\n",
       "      <td>-3313.000000</td>\n",
       "      <td>1.000000</td>\n",
       "      <td>4.000000</td>\n",
       "      <td>1.000000</td>\n",
       "      <td>-1.000000</td>\n",
       "      <td>0.000000</td>\n",
       "    </tr>\n",
       "    <tr>\n",
       "      <th>25%</th>\n",
       "      <td>33.000000</td>\n",
       "      <td>69.000000</td>\n",
       "      <td>9.000000</td>\n",
       "      <td>104.000000</td>\n",
       "      <td>1.000000</td>\n",
       "      <td>-1.000000</td>\n",
       "      <td>0.000000</td>\n",
       "    </tr>\n",
       "    <tr>\n",
       "      <th>50%</th>\n",
       "      <td>39.000000</td>\n",
       "      <td>444.000000</td>\n",
       "      <td>16.000000</td>\n",
       "      <td>185.000000</td>\n",
       "      <td>2.000000</td>\n",
       "      <td>-1.000000</td>\n",
       "      <td>0.000000</td>\n",
       "    </tr>\n",
       "    <tr>\n",
       "      <th>75%</th>\n",
       "      <td>49.000000</td>\n",
       "      <td>1480.000000</td>\n",
       "      <td>21.000000</td>\n",
       "      <td>329.000000</td>\n",
       "      <td>3.000000</td>\n",
       "      <td>-1.000000</td>\n",
       "      <td>0.000000</td>\n",
       "    </tr>\n",
       "    <tr>\n",
       "      <th>max</th>\n",
       "      <td>87.000000</td>\n",
       "      <td>71188.000000</td>\n",
       "      <td>31.000000</td>\n",
       "      <td>3025.000000</td>\n",
       "      <td>50.000000</td>\n",
       "      <td>871.000000</td>\n",
       "      <td>25.000000</td>\n",
       "    </tr>\n",
       "  </tbody>\n",
       "</table>\n",
       "</div>"
      ],
      "text/plain": [
       "               age       balance          day     duration     campaign  \\\n",
       "count  4521.000000   4521.000000  4521.000000  4521.000000  4521.000000   \n",
       "mean     41.170095   1422.657819    15.915284   263.961292     2.793630   \n",
       "std      10.576211   3009.638142     8.247667   259.856633     3.109807   \n",
       "min      19.000000  -3313.000000     1.000000     4.000000     1.000000   \n",
       "25%      33.000000     69.000000     9.000000   104.000000     1.000000   \n",
       "50%      39.000000    444.000000    16.000000   185.000000     2.000000   \n",
       "75%      49.000000   1480.000000    21.000000   329.000000     3.000000   \n",
       "max      87.000000  71188.000000    31.000000  3025.000000    50.000000   \n",
       "\n",
       "             pdays     previous  \n",
       "count  4521.000000  4521.000000  \n",
       "mean     39.766645     0.542579  \n",
       "std     100.121124     1.693562  \n",
       "min      -1.000000     0.000000  \n",
       "25%      -1.000000     0.000000  \n",
       "50%      -1.000000     0.000000  \n",
       "75%      -1.000000     0.000000  \n",
       "max     871.000000    25.000000  "
      ]
     },
     "execution_count": 3,
     "metadata": {},
     "output_type": "execute_result"
    }
   ],
   "source": [
    "df.describe()"
   ]
  },
  {
   "cell_type": "code",
   "execution_count": 4,
   "id": "3c24befb-fd56-4445-b3b4-d31696cbded6",
   "metadata": {},
   "outputs": [
    {
     "data": {
      "text/plain": [
       "age          0\n",
       "job          0\n",
       "marital      0\n",
       "education    0\n",
       "default      0\n",
       "balance      0\n",
       "housing      0\n",
       "loan         0\n",
       "contact      0\n",
       "day          0\n",
       "month        0\n",
       "duration     0\n",
       "campaign     0\n",
       "pdays        0\n",
       "previous     0\n",
       "poutcome     0\n",
       "y            0\n",
       "dtype: int64"
      ]
     },
     "execution_count": 4,
     "metadata": {},
     "output_type": "execute_result"
    }
   ],
   "source": [
    "df.isnull().sum()"
   ]
  },
  {
   "cell_type": "code",
   "execution_count": 5,
   "id": "225c9556-59c5-4c33-bae3-b1fe496b5e48",
   "metadata": {},
   "outputs": [],
   "source": [
    "## visual\n",
    "\n",
    "import matplotlib.pyplot as plt\n",
    "import seaborn as sns"
   ]
  },
  {
   "cell_type": "markdown",
   "id": "0a7d1b72-dcfa-4812-adbb-f8d1eceb1e99",
   "metadata": {},
   "source": [
    "## 02- Distribuição da Idade"
   ]
  },
  {
   "cell_type": "code",
   "execution_count": 6,
   "id": "e71e9b0f-e770-45a6-934d-eb548dfec12c",
   "metadata": {},
   "outputs": [
    {
     "data": {
      "text/plain": [
       "<Axes: xlabel='age'>"
      ]
     },
     "execution_count": 6,
     "metadata": {},
     "output_type": "execute_result"
    },
    {
     "data": {
      "image/png": "[encoded data removed]",
      "text/plain": [
       "<Figure size 640x480 with 1 Axes>"
      ]
     },
     "metadata": {},
     "output_type": "display_data"
    }
   ],
   "source": [
    "sns.boxplot(data=df, x='age')"
   ]
  },
  {
   "cell_type": "markdown",
   "id": "ce2a0f51-8198-485d-a7b8-50d0a66fb30f",
   "metadata": {},
   "source": [
    "Interessante notar que temos as idades dos clientes, em que até 75% dos clientes tem 49 anos, e há outliers nas idades mais altas, enquanto que o mínimo são 19 anos. "
   ]
  },
  {
   "cell_type": "code",
   "execution_count": 7,
   "id": "8309fe7a-abb2-4dab-adad-47ae268c5578",
   "metadata": {},
   "outputs": [
    {
     "data": {
      "text/plain": [
       "job\n",
       "management       969\n",
       "blue-collar      946\n",
       "technician       768\n",
       "admin.           478\n",
       "services         417\n",
       "retired          230\n",
       "self-employed    183\n",
       "entrepreneur     168\n",
       "unemployed       128\n",
       "housemaid        112\n",
       "student           84\n",
       "unknown           38\n",
       "Name: count, dtype: int64"
      ]
     },
     "execution_count": 7,
     "metadata": {},
     "output_type": "execute_result"
    }
   ],
   "source": [
    "df['job'].value_counts()"
   ]
  },
  {
   "cell_type": "code",
   "execution_count": 8,
   "id": "57fd87e5-db7c-4052-9dfe-9f8d79020040",
   "metadata": {},
   "outputs": [
    {
     "data": {
      "text/plain": [
       "job\n",
       "management       0.214333\n",
       "blue-collar      0.209246\n",
       "technician       0.169874\n",
       "admin.           0.105729\n",
       "services         0.092236\n",
       "retired          0.050874\n",
       "self-employed    0.040478\n",
       "entrepreneur     0.037160\n",
       "unemployed       0.028312\n",
       "housemaid        0.024773\n",
       "student          0.018580\n",
       "unknown          0.008405\n",
       "Name: proportion, dtype: float64"
      ]
     },
     "execution_count": 8,
     "metadata": {},
     "output_type": "execute_result"
    }
   ],
   "source": [
    "df['job'].value_counts(normalize=True)"
   ]
  },
  {
   "cell_type": "markdown",
   "id": "5cf62b31-528d-4eaa-ac07-b7b0e555b5f2",
   "metadata": {},
   "source": [
    "Interessante notar que Administração é a profissão mais comum nos dados, enquanto que o termo empregado 'blue-collor' também é bem utilizado, e significa funcionários que realizam serviços técnicos - como operários de fábricas."
   ]
  },
  {
   "cell_type": "markdown",
   "id": "9183320d-c0b7-4b49-8d00-45a399cb9fd5",
   "metadata": {},
   "source": [
    "## 03 - Principais Formas de Contato"
   ]
  },
  {
   "cell_type": "code",
   "execution_count": 9,
   "id": "40886f2e-5f59-4c54-8896-b107fcfc51d0",
   "metadata": {},
   "outputs": [
    {
     "data": {
      "text/plain": [
       "contact\n",
       "cellular     2896\n",
       "unknown      1324\n",
       "telephone     301\n",
       "Name: count, dtype: int64"
      ]
     },
     "execution_count": 9,
     "metadata": {},
     "output_type": "execute_result"
    }
   ],
   "source": [
    "df['contact'].value_counts()"
   ]
  },
  {
   "cell_type": "code",
   "execution_count": 10,
   "id": "4a7d1769-ec7c-4652-9d69-571161f5d5c0",
   "metadata": {},
   "outputs": [
    {
     "data": {
      "text/plain": [
       "contact\n",
       "cellular     0.640566\n",
       "unknown      0.292856\n",
       "telephone    0.066578\n",
       "Name: proportion, dtype: float64"
      ]
     },
     "execution_count": 10,
     "metadata": {},
     "output_type": "execute_result"
    }
   ],
   "source": [
    "df['contact'].value_counts(normalize=True)"
   ]
  },
  {
   "cell_type": "markdown",
   "id": "197554f4-40a3-4139-9d94-b354f72d627e",
   "metadata": {},
   "source": [
    "#### Maior parte dos contatos é feita por celular - quase 65% do total."
   ]
  },
  {
   "cell_type": "markdown",
   "id": "89e40ef3-3e94-40bc-ac6f-8bdf1068131b",
   "metadata": {},
   "source": [
    "## 04 - Relação Entre Saldo x Idade"
   ]
  },
  {
   "cell_type": "code",
   "execution_count": 11,
   "id": "e0405e1a-4adc-4b8f-b892-408f562ed3ad",
   "metadata": {},
   "outputs": [
    {
     "data": {
      "image/png": "[encoded data removed]",
      "text/plain": [
       "<Figure size 640x480 with 1 Axes>"
      ]
     },
     "metadata": {},
     "output_type": "display_data"
    }
   ],
   "source": [
    "sns.scatterplot(data=df, x='balance', y='age')\n",
    "plt.title('Relação entre Idade x Saldo')\n",
    "plt.show()"
   ]
  },
  {
   "cell_type": "markdown",
   "id": "8ab80692-5061-4668-b456-e3d2553e0efe",
   "metadata": {},
   "source": [
    "Esse ponto é interessante, pois vemos que mesmo pessoas mais velhas, o saldo da conta não progride da forma esperada, ou seja, não há uma correlação - nem positiva e nem negativa entre os dados analisados"
   ]
  },
  {
   "cell_type": "markdown",
   "id": "c2b2c68d-d9ef-49a8-a3fa-e589efd1dffa",
   "metadata": {},
   "source": [
    "## 05 - Relação entre Saldo Médio x Habitação"
   ]
  },
  {
   "cell_type": "code",
   "execution_count": 12,
   "id": "ffca34f7-84f8-433d-912e-74c89785d94e",
   "metadata": {},
   "outputs": [
    {
     "data": {
      "text/html": [
       "<div>\n",
       "<style scoped>\n",
       "    .dataframe tbody tr th:only-of-type {\n",
       "        vertical-align: middle;\n",
       "    }\n",
       "\n",
       "    .dataframe tbody tr th {\n",
       "        vertical-align: top;\n",
       "    }\n",
       "\n",
       "    .dataframe thead th {\n",
       "        text-align: right;\n",
       "    }\n",
       "</style>\n",
       "<table border=\"1\" class=\"dataframe\">\n",
       "  <thead>\n",
       "    <tr style=\"text-align: right;\">\n",
       "      <th></th>\n",
       "      <th>housing</th>\n",
       "      <th>balance</th>\n",
       "    </tr>\n",
       "  </thead>\n",
       "  <tbody>\n",
       "    <tr>\n",
       "      <th>0</th>\n",
       "      <td>no</td>\n",
       "      <td>1595.277268</td>\n",
       "    </tr>\n",
       "    <tr>\n",
       "      <th>1</th>\n",
       "      <td>yes</td>\n",
       "      <td>1290.309496</td>\n",
       "    </tr>\n",
       "  </tbody>\n",
       "</table>\n",
       "</div>"
      ],
      "text/plain": [
       "  housing      balance\n",
       "0      no  1595.277268\n",
       "1     yes  1290.309496"
      ]
     },
     "execution_count": 12,
     "metadata": {},
     "output_type": "execute_result"
    }
   ],
   "source": [
    "saldo_medio = df.groupby('housing')['balance'].mean().reset_index()\n",
    "\n",
    "saldo_medio"
   ]
  },
  {
   "cell_type": "code",
   "execution_count": 13,
   "id": "31630d80-850a-45e1-90db-45b4656d8a93",
   "metadata": {},
   "outputs": [
    {
     "data": {
      "text/plain": [
       "<Axes: xlabel='housing', ylabel='balance'>"
      ]
     },
     "execution_count": 13,
     "metadata": {},
     "output_type": "execute_result"
    },
    {
     "data": {
      "image/png": "[encoded data removed]",
      "text/plain": [
       "<Figure size 640x480 with 1 Axes>"
      ]
     },
     "metadata": {},
     "output_type": "display_data"
    }
   ],
   "source": [
    "sns.barplot(data=saldo_medio, x='housing', y='balance', color='blue')"
   ]
  },
  {
   "cell_type": "markdown",
   "id": "15d4708e-d1f8-49fe-a3d6-44f03a66d024",
   "metadata": {},
   "source": [
    "Esse dado é interessante, nós vemos que quem NÃO possui residência têm um saldo bancário maior, possivelmente deve ter relação com a possibilidade de financiamento, isso poderia ser melhor investigado."
   ]
  },
  {
   "cell_type": "markdown",
   "id": "7ee112cf-ee6d-4baf-a45d-152f90294b06",
   "metadata": {},
   "source": [
    "## 06 - Relação Saldo Médio x Default"
   ]
  },
  {
   "cell_type": "code",
   "execution_count": 14,
   "id": "5b969b2d-d9c4-46c1-9257-fc87add04ca7",
   "metadata": {},
   "outputs": [
    {
     "data": {
      "text/html": [
       "<div>\n",
       "<style scoped>\n",
       "    .dataframe tbody tr th:only-of-type {\n",
       "        vertical-align: middle;\n",
       "    }\n",
       "\n",
       "    .dataframe tbody tr th {\n",
       "        vertical-align: top;\n",
       "    }\n",
       "\n",
       "    .dataframe thead th {\n",
       "        text-align: right;\n",
       "    }\n",
       "</style>\n",
       "<table border=\"1\" class=\"dataframe\">\n",
       "  <thead>\n",
       "    <tr style=\"text-align: right;\">\n",
       "      <th></th>\n",
       "      <th>default</th>\n",
       "      <th>balance</th>\n",
       "    </tr>\n",
       "  </thead>\n",
       "  <tbody>\n",
       "    <tr>\n",
       "      <th>0</th>\n",
       "      <td>no</td>\n",
       "      <td>1450.550956</td>\n",
       "    </tr>\n",
       "    <tr>\n",
       "      <th>1</th>\n",
       "      <td>yes</td>\n",
       "      <td>-208.723684</td>\n",
       "    </tr>\n",
       "  </tbody>\n",
       "</table>\n",
       "</div>"
      ],
      "text/plain": [
       "  default      balance\n",
       "0      no  1450.550956\n",
       "1     yes  -208.723684"
      ]
     },
     "execution_count": 14,
     "metadata": {},
     "output_type": "execute_result"
    }
   ],
   "source": [
    "saldo_default = df.groupby('default')['balance'].mean().reset_index()\n",
    "\n",
    "saldo_default"
   ]
  },
  {
   "cell_type": "code",
   "execution_count": 15,
   "id": "0900f31c-10dc-4e96-8bcb-cf7929f001c5",
   "metadata": {},
   "outputs": [
    {
     "data": {
      "image/png": "[encoded data removed]",
      "text/plain": [
       "<Figure size 640x480 with 1 Axes>"
      ]
     },
     "metadata": {},
     "output_type": "display_data"
    }
   ],
   "source": [
    "sns.barplot(data=saldo_default, x='default', y='balance');"
   ]
  },
  {
   "cell_type": "markdown",
   "id": "b9e655bb-cbd1-47b8-8316-65ab5c59d810",
   "metadata": {},
   "source": [
    "Surpreendendo um total de \"0\" pessoas, as pessoas que estão inadimplentes têm uma média de saldo bancário negativo - triste realidade de nossas vidas hehe."
   ]
  },
  {
   "cell_type": "code",
   "execution_count": 16,
   "id": "7694f57f-b7cd-454a-99c4-af7bb03157f8",
   "metadata": {},
   "outputs": [
    {
     "data": {
      "text/plain": [
       "<Axes: xlabel='balance', ylabel='default'>"
      ]
     },
     "execution_count": 16,
     "metadata": {},
     "output_type": "execute_result"
    },
    {
     "data": {
      "image/png": "[encoded data removed]",
      "text/plain": [
       "<Figure size 640x480 with 1 Axes>"
      ]
     },
     "metadata": {},
     "output_type": "display_data"
    }
   ],
   "source": [
    "sns.boxplot(data=df, x='balance', y='default')"
   ]
  },
  {
   "cell_type": "markdown",
   "id": "ff559967-c905-4f2f-825e-c7bf6336be71",
   "metadata": {},
   "source": [
    "## 07 - Detecção de Outliers - Método IQT"
   ]
  },
  {
   "cell_type": "code",
   "execution_count": 17,
   "id": "90844ac3-a001-4411-9200-e1ec33f9ff2c",
   "metadata": {},
   "outputs": [
    {
     "data": {
      "image/png": "[encoded data removed]",
      "text/plain": [
       "<Figure size 640x480 with 1 Axes>"
      ]
     },
     "metadata": {},
     "output_type": "display_data"
    }
   ],
   "source": [
    "sns.boxplot(data=df, x='balance')\n",
    "plt.show()"
   ]
  },
  {
   "cell_type": "code",
   "execution_count": 18,
   "id": "f461737d-f18f-4fff-a443-941f77c9148f",
   "metadata": {},
   "outputs": [
    {
     "data": {
      "text/html": [
       "<div>\n",
       "<style scoped>\n",
       "    .dataframe tbody tr th:only-of-type {\n",
       "        vertical-align: middle;\n",
       "    }\n",
       "\n",
       "    .dataframe tbody tr th {\n",
       "        vertical-align: top;\n",
       "    }\n",
       "\n",
       "    .dataframe thead th {\n",
       "        text-align: right;\n",
       "    }\n",
       "</style>\n",
       "<table border=\"1\" class=\"dataframe\">\n",
       "  <thead>\n",
       "    <tr style=\"text-align: right;\">\n",
       "      <th></th>\n",
       "      <th>age</th>\n",
       "      <th>balance</th>\n",
       "      <th>day</th>\n",
       "      <th>duration</th>\n",
       "      <th>campaign</th>\n",
       "      <th>pdays</th>\n",
       "      <th>previous</th>\n",
       "    </tr>\n",
       "  </thead>\n",
       "  <tbody>\n",
       "    <tr>\n",
       "      <th>count</th>\n",
       "      <td>4521.000000</td>\n",
       "      <td>4521.000000</td>\n",
       "      <td>4521.000000</td>\n",
       "      <td>4521.000000</td>\n",
       "      <td>4521.000000</td>\n",
       "      <td>4521.000000</td>\n",
       "      <td>4521.000000</td>\n",
       "    </tr>\n",
       "    <tr>\n",
       "      <th>mean</th>\n",
       "      <td>41.170095</td>\n",
       "      <td>1422.657819</td>\n",
       "      <td>15.915284</td>\n",
       "      <td>263.961292</td>\n",
       "      <td>2.793630</td>\n",
       "      <td>39.766645</td>\n",
       "      <td>0.542579</td>\n",
       "    </tr>\n",
       "    <tr>\n",
       "      <th>std</th>\n",
       "      <td>10.576211</td>\n",
       "      <td>3009.638142</td>\n",
       "      <td>8.247667</td>\n",
       "      <td>259.856633</td>\n",
       "      <td>3.109807</td>\n",
       "      <td>100.121124</td>\n",
       "      <td>1.693562</td>\n",
       "    </tr>\n",
       "    <tr>\n",
       "      <th>min</th>\n",
       "      <td>19.000000</td>\n",
       "      <td>-3313.000000</td>\n",
       "      <td>1.000000</td>\n",
       "      <td>4.000000</td>\n",
       "      <td>1.000000</td>\n",
       "      <td>-1.000000</td>\n",
       "      <td>0.000000</td>\n",
       "    </tr>\n",
       "    <tr>\n",
       "      <th>25%</th>\n",
       "      <td>33.000000</td>\n",
       "      <td>69.000000</td>\n",
       "      <td>9.000000</td>\n",
       "      <td>104.000000</td>\n",
       "      <td>1.000000</td>\n",
       "      <td>-1.000000</td>\n",
       "      <td>0.000000</td>\n",
       "    </tr>\n",
       "    <tr>\n",
       "      <th>50%</th>\n",
       "      <td>39.000000</td>\n",
       "      <td>444.000000</td>\n",
       "      <td>16.000000</td>\n",
       "      <td>185.000000</td>\n",
       "      <td>2.000000</td>\n",
       "      <td>-1.000000</td>\n",
       "      <td>0.000000</td>\n",
       "    </tr>\n",
       "    <tr>\n",
       "      <th>75%</th>\n",
       "      <td>49.000000</td>\n",
       "      <td>1480.000000</td>\n",
       "      <td>21.000000</td>\n",
       "      <td>329.000000</td>\n",
       "      <td>3.000000</td>\n",
       "      <td>-1.000000</td>\n",
       "      <td>0.000000</td>\n",
       "    </tr>\n",
       "    <tr>\n",
       "      <th>max</th>\n",
       "      <td>87.000000</td>\n",
       "      <td>71188.000000</td>\n",
       "      <td>31.000000</td>\n",
       "      <td>3025.000000</td>\n",
       "      <td>50.000000</td>\n",
       "      <td>871.000000</td>\n",
       "      <td>25.000000</td>\n",
       "    </tr>\n",
       "  </tbody>\n",
       "</table>\n",
       "</div>"
      ],
      "text/plain": [
       "               age       balance          day     duration     campaign  \\\n",
       "count  4521.000000   4521.000000  4521.000000  4521.000000  4521.000000   \n",
       "mean     41.170095   1422.657819    15.915284   263.961292     2.793630   \n",
       "std      10.576211   3009.638142     8.247667   259.856633     3.109807   \n",
       "min      19.000000  -3313.000000     1.000000     4.000000     1.000000   \n",
       "25%      33.000000     69.000000     9.000000   104.000000     1.000000   \n",
       "50%      39.000000    444.000000    16.000000   185.000000     2.000000   \n",
       "75%      49.000000   1480.000000    21.000000   329.000000     3.000000   \n",
       "max      87.000000  71188.000000    31.000000  3025.000000    50.000000   \n",
       "\n",
       "             pdays     previous  \n",
       "count  4521.000000  4521.000000  \n",
       "mean     39.766645     0.542579  \n",
       "std     100.121124     1.693562  \n",
       "min      -1.000000     0.000000  \n",
       "25%      -1.000000     0.000000  \n",
       "50%      -1.000000     0.000000  \n",
       "75%      -1.000000     0.000000  \n",
       "max     871.000000    25.000000  "
      ]
     },
     "execution_count": 18,
     "metadata": {},
     "output_type": "execute_result"
    }
   ],
   "source": [
    "df.describe()"
   ]
  },
  {
   "cell_type": "markdown",
   "id": "ef72994b-c03c-4ff6-a90a-5d88520f1445",
   "metadata": {},
   "source": [
    "Interessante avaliar os Outliers pelo Método Interquartil"
   ]
  },
  {
   "cell_type": "code",
   "execution_count": 19,
   "id": "9a4a2832-2e1b-4008-9187-1409af0e948c",
   "metadata": {},
   "outputs": [
    {
     "name": "stdout",
     "output_type": "stream",
     "text": [
      "69.0 1480.0\n"
     ]
    }
   ],
   "source": [
    "## Selecionando os quartis\n",
    "\n",
    "q1 = np.percentile(df['balance'], 25)\n",
    "q3 = np.percentile(df['balance'], 75)\n",
    "\n",
    "print(q1, q3)"
   ]
  },
  {
   "cell_type": "code",
   "execution_count": 20,
   "id": "9224f96d-f3ff-4f6d-bb2a-fbb94d41f111",
   "metadata": {},
   "outputs": [
    {
     "data": {
      "text/plain": [
       "1411.0"
      ]
     },
     "execution_count": 20,
     "metadata": {},
     "output_type": "execute_result"
    }
   ],
   "source": [
    "iqt = q3 - q1\n",
    "\n",
    "iqt"
   ]
  },
  {
   "cell_type": "code",
   "execution_count": 21,
   "id": "6d5eebeb-f463-425f-a7d6-15c6944812df",
   "metadata": {},
   "outputs": [
    {
     "name": "stdout",
     "output_type": "stream",
     "text": [
      "-2047.5 3596.5\n"
     ]
    }
   ],
   "source": [
    "limite_inferior = q1 - (1.5 * iqt)\n",
    "\n",
    "limite_superior = q3 + (1.5 * iqt)\n",
    "\n",
    "print(limite_inferior, limite_superior)"
   ]
  },
  {
   "cell_type": "markdown",
   "id": "cb2d4994-3d63-4c50-8b6f-f81f1cb3d162",
   "metadata": {},
   "source": [
    "Com esses valores em mãos, sabemos que os primeiros 25% dos dados, estão entre - 2047.5 até 69, ou seja, o que estiver abaixo disso é Outlier.\n",
    "Enquanto que 75% dos dados se encontram entre 1480 e 3596.5, acima disso também é considerado Outlier."
   ]
  },
  {
   "cell_type": "code",
   "execution_count": 22,
   "id": "45b02bab-005a-495b-b1dc-c16e92d52c2f",
   "metadata": {},
   "outputs": [
    {
     "data": {
      "text/plain": [
       "(504, 17)"
      ]
     },
     "execution_count": 22,
     "metadata": {},
     "output_type": "execute_result"
    }
   ],
   "source": [
    "outlier_acima = df[df['balance']> limite_superior]\n",
    "\n",
    "outlier_acima.shape"
   ]
  },
  {
   "cell_type": "code",
   "execution_count": 23,
   "id": "4bb7aade-5ffb-4cc1-92c1-e024589e9756",
   "metadata": {},
   "outputs": [
    {
     "data": {
      "text/plain": [
       "(2, 17)"
      ]
     },
     "execution_count": 23,
     "metadata": {},
     "output_type": "execute_result"
    }
   ],
   "source": [
    "outlier_abaixo = df[df['balance'] < limite_inferior]\n",
    "\n",
    "outlier_abaixo.shape"
   ]
  },
  {
   "cell_type": "markdown",
   "id": "5ab2808f-8c88-4016-ae15-7ae26f879d99",
   "metadata": {},
   "source": [
    "Interessante que temos 2 casos de Outliers negativos, abaixo do limite inferior, enquanto que acima do limite superior temos 504 indivíduos, mostrando como algumas pessoas destoam no saldo das métricas centrais."
   ]
  },
  {
   "cell_type": "code",
   "execution_count": 24,
   "id": "2b4b92d5-e17e-462a-b25c-93b55d17b96e",
   "metadata": {},
   "outputs": [
    {
     "data": {
      "text/html": [
       "<div>\n",
       "<style scoped>\n",
       "    .dataframe tbody tr th:only-of-type {\n",
       "        vertical-align: middle;\n",
       "    }\n",
       "\n",
       "    .dataframe tbody tr th {\n",
       "        vertical-align: top;\n",
       "    }\n",
       "\n",
       "    .dataframe thead th {\n",
       "        text-align: right;\n",
       "    }\n",
       "</style>\n",
       "<table border=\"1\" class=\"dataframe\">\n",
       "  <thead>\n",
       "    <tr style=\"text-align: right;\">\n",
       "      <th></th>\n",
       "      <th>age</th>\n",
       "      <th>balance</th>\n",
       "      <th>day</th>\n",
       "      <th>duration</th>\n",
       "      <th>campaign</th>\n",
       "      <th>pdays</th>\n",
       "      <th>previous</th>\n",
       "    </tr>\n",
       "  </thead>\n",
       "  <tbody>\n",
       "    <tr>\n",
       "      <th>count</th>\n",
       "      <td>504.000000</td>\n",
       "      <td>504.000000</td>\n",
       "      <td>504.000000</td>\n",
       "      <td>504.000000</td>\n",
       "      <td>504.000000</td>\n",
       "      <td>504.000000</td>\n",
       "      <td>504.000000</td>\n",
       "    </tr>\n",
       "    <tr>\n",
       "      <th>mean</th>\n",
       "      <td>43.281746</td>\n",
       "      <td>7628.188492</td>\n",
       "      <td>16.313492</td>\n",
       "      <td>257.880952</td>\n",
       "      <td>2.831349</td>\n",
       "      <td>41.309524</td>\n",
       "      <td>0.710317</td>\n",
       "    </tr>\n",
       "    <tr>\n",
       "      <th>std</th>\n",
       "      <td>11.761378</td>\n",
       "      <td>5646.738441</td>\n",
       "      <td>7.884916</td>\n",
       "      <td>218.927754</td>\n",
       "      <td>2.965227</td>\n",
       "      <td>95.495420</td>\n",
       "      <td>1.879949</td>\n",
       "    </tr>\n",
       "    <tr>\n",
       "      <th>min</th>\n",
       "      <td>21.000000</td>\n",
       "      <td>3601.000000</td>\n",
       "      <td>1.000000</td>\n",
       "      <td>5.000000</td>\n",
       "      <td>1.000000</td>\n",
       "      <td>-1.000000</td>\n",
       "      <td>0.000000</td>\n",
       "    </tr>\n",
       "    <tr>\n",
       "      <th>25%</th>\n",
       "      <td>34.000000</td>\n",
       "      <td>4412.250000</td>\n",
       "      <td>11.000000</td>\n",
       "      <td>114.000000</td>\n",
       "      <td>1.000000</td>\n",
       "      <td>-1.000000</td>\n",
       "      <td>0.000000</td>\n",
       "    </tr>\n",
       "    <tr>\n",
       "      <th>50%</th>\n",
       "      <td>41.000000</td>\n",
       "      <td>5735.000000</td>\n",
       "      <td>17.000000</td>\n",
       "      <td>197.500000</td>\n",
       "      <td>2.000000</td>\n",
       "      <td>-1.000000</td>\n",
       "      <td>0.000000</td>\n",
       "    </tr>\n",
       "    <tr>\n",
       "      <th>75%</th>\n",
       "      <td>51.000000</td>\n",
       "      <td>8499.250000</td>\n",
       "      <td>21.000000</td>\n",
       "      <td>337.000000</td>\n",
       "      <td>3.000000</td>\n",
       "      <td>-1.000000</td>\n",
       "      <td>0.000000</td>\n",
       "    </tr>\n",
       "    <tr>\n",
       "      <th>max</th>\n",
       "      <td>80.000000</td>\n",
       "      <td>71188.000000</td>\n",
       "      <td>31.000000</td>\n",
       "      <td>1529.000000</td>\n",
       "      <td>25.000000</td>\n",
       "      <td>761.000000</td>\n",
       "      <td>15.000000</td>\n",
       "    </tr>\n",
       "  </tbody>\n",
       "</table>\n",
       "</div>"
      ],
      "text/plain": [
       "              age       balance         day     duration    campaign  \\\n",
       "count  504.000000    504.000000  504.000000   504.000000  504.000000   \n",
       "mean    43.281746   7628.188492   16.313492   257.880952    2.831349   \n",
       "std     11.761378   5646.738441    7.884916   218.927754    2.965227   \n",
       "min     21.000000   3601.000000    1.000000     5.000000    1.000000   \n",
       "25%     34.000000   4412.250000   11.000000   114.000000    1.000000   \n",
       "50%     41.000000   5735.000000   17.000000   197.500000    2.000000   \n",
       "75%     51.000000   8499.250000   21.000000   337.000000    3.000000   \n",
       "max     80.000000  71188.000000   31.000000  1529.000000   25.000000   \n",
       "\n",
       "            pdays    previous  \n",
       "count  504.000000  504.000000  \n",
       "mean    41.309524    0.710317  \n",
       "std     95.495420    1.879949  \n",
       "min     -1.000000    0.000000  \n",
       "25%     -1.000000    0.000000  \n",
       "50%     -1.000000    0.000000  \n",
       "75%     -1.000000    0.000000  \n",
       "max    761.000000   15.000000  "
      ]
     },
     "execution_count": 24,
     "metadata": {},
     "output_type": "execute_result"
    }
   ],
   "source": [
    "outlier_acima.describe()"
   ]
  },
  {
   "cell_type": "markdown",
   "id": "e72a4c64-bee3-492b-8f94-14557cea2189",
   "metadata": {},
   "source": [
    "Engraçado ver a diferença de saldo médio quando olhamos apenas os Outliers em comparação com o público em geral."
   ]
  },
  {
   "cell_type": "markdown",
   "id": "21603a3c-fa40-40c7-950c-a1d76868e4c6",
   "metadata": {},
   "source": [
    "## 08 - Alterando variável resposta 'y' -  para 0 e 1"
   ]
  },
  {
   "cell_type": "code",
   "execution_count": 25,
   "id": "52221746-f9af-401e-8292-95b5c2ca1bcd",
   "metadata": {},
   "outputs": [],
   "source": [
    "df['y'] =  df['y'].replace({'no': 0, 'yes': 1})"
   ]
  },
  {
   "cell_type": "code",
   "execution_count": 26,
   "id": "7027217d-0f86-45b3-8406-8b4141d169a6",
   "metadata": {},
   "outputs": [
    {
     "data": {
      "text/html": [
       "<div>\n",
       "<style scoped>\n",
       "    .dataframe tbody tr th:only-of-type {\n",
       "        vertical-align: middle;\n",
       "    }\n",
       "\n",
       "    .dataframe tbody tr th {\n",
       "        vertical-align: top;\n",
       "    }\n",
       "\n",
       "    .dataframe thead th {\n",
       "        text-align: right;\n",
       "    }\n",
       "</style>\n",
       "<table border=\"1\" class=\"dataframe\">\n",
       "  <thead>\n",
       "    <tr style=\"text-align: right;\">\n",
       "      <th></th>\n",
       "      <th>age</th>\n",
       "      <th>job</th>\n",
       "      <th>marital</th>\n",
       "      <th>education</th>\n",
       "      <th>default</th>\n",
       "      <th>balance</th>\n",
       "      <th>housing</th>\n",
       "      <th>loan</th>\n",
       "      <th>contact</th>\n",
       "      <th>day</th>\n",
       "      <th>month</th>\n",
       "      <th>duration</th>\n",
       "      <th>campaign</th>\n",
       "      <th>pdays</th>\n",
       "      <th>previous</th>\n",
       "      <th>poutcome</th>\n",
       "      <th>y</th>\n",
       "    </tr>\n",
       "  </thead>\n",
       "  <tbody>\n",
       "    <tr>\n",
       "      <th>0</th>\n",
       "      <td>30</td>\n",
       "      <td>unemployed</td>\n",
       "      <td>married</td>\n",
       "      <td>primary</td>\n",
       "      <td>no</td>\n",
       "      <td>1787</td>\n",
       "      <td>no</td>\n",
       "      <td>no</td>\n",
       "      <td>cellular</td>\n",
       "      <td>19</td>\n",
       "      <td>oct</td>\n",
       "      <td>79</td>\n",
       "      <td>1</td>\n",
       "      <td>-1</td>\n",
       "      <td>0</td>\n",
       "      <td>unknown</td>\n",
       "      <td>0</td>\n",
       "    </tr>\n",
       "    <tr>\n",
       "      <th>1</th>\n",
       "      <td>33</td>\n",
       "      <td>services</td>\n",
       "      <td>married</td>\n",
       "      <td>secondary</td>\n",
       "      <td>no</td>\n",
       "      <td>4789</td>\n",
       "      <td>yes</td>\n",
       "      <td>yes</td>\n",
       "      <td>cellular</td>\n",
       "      <td>11</td>\n",
       "      <td>may</td>\n",
       "      <td>220</td>\n",
       "      <td>1</td>\n",
       "      <td>339</td>\n",
       "      <td>4</td>\n",
       "      <td>failure</td>\n",
       "      <td>0</td>\n",
       "    </tr>\n",
       "    <tr>\n",
       "      <th>2</th>\n",
       "      <td>35</td>\n",
       "      <td>management</td>\n",
       "      <td>single</td>\n",
       "      <td>tertiary</td>\n",
       "      <td>no</td>\n",
       "      <td>1350</td>\n",
       "      <td>yes</td>\n",
       "      <td>no</td>\n",
       "      <td>cellular</td>\n",
       "      <td>16</td>\n",
       "      <td>apr</td>\n",
       "      <td>185</td>\n",
       "      <td>1</td>\n",
       "      <td>330</td>\n",
       "      <td>1</td>\n",
       "      <td>failure</td>\n",
       "      <td>0</td>\n",
       "    </tr>\n",
       "    <tr>\n",
       "      <th>3</th>\n",
       "      <td>30</td>\n",
       "      <td>management</td>\n",
       "      <td>married</td>\n",
       "      <td>tertiary</td>\n",
       "      <td>no</td>\n",
       "      <td>1476</td>\n",
       "      <td>yes</td>\n",
       "      <td>yes</td>\n",
       "      <td>unknown</td>\n",
       "      <td>3</td>\n",
       "      <td>jun</td>\n",
       "      <td>199</td>\n",
       "      <td>4</td>\n",
       "      <td>-1</td>\n",
       "      <td>0</td>\n",
       "      <td>unknown</td>\n",
       "      <td>0</td>\n",
       "    </tr>\n",
       "    <tr>\n",
       "      <th>4</th>\n",
       "      <td>59</td>\n",
       "      <td>blue-collar</td>\n",
       "      <td>married</td>\n",
       "      <td>secondary</td>\n",
       "      <td>no</td>\n",
       "      <td>0</td>\n",
       "      <td>yes</td>\n",
       "      <td>no</td>\n",
       "      <td>unknown</td>\n",
       "      <td>5</td>\n",
       "      <td>may</td>\n",
       "      <td>226</td>\n",
       "      <td>1</td>\n",
       "      <td>-1</td>\n",
       "      <td>0</td>\n",
       "      <td>unknown</td>\n",
       "      <td>0</td>\n",
       "    </tr>\n",
       "  </tbody>\n",
       "</table>\n",
       "</div>"
      ],
      "text/plain": [
       "   age          job  marital  education default  balance housing loan  \\\n",
       "0   30   unemployed  married    primary      no     1787      no   no   \n",
       "1   33     services  married  secondary      no     4789     yes  yes   \n",
       "2   35   management   single   tertiary      no     1350     yes   no   \n",
       "3   30   management  married   tertiary      no     1476     yes  yes   \n",
       "4   59  blue-collar  married  secondary      no        0     yes   no   \n",
       "\n",
       "    contact  day month  duration  campaign  pdays  previous poutcome  y  \n",
       "0  cellular   19   oct        79         1     -1         0  unknown  0  \n",
       "1  cellular   11   may       220         1    339         4  failure  0  \n",
       "2  cellular   16   apr       185         1    330         1  failure  0  \n",
       "3   unknown    3   jun       199         4     -1         0  unknown  0  \n",
       "4   unknown    5   may       226         1     -1         0  unknown  0  "
      ]
     },
     "execution_count": 26,
     "metadata": {},
     "output_type": "execute_result"
    }
   ],
   "source": [
    "df.head()"
   ]
  },
  {
   "cell_type": "code",
   "execution_count": 27,
   "id": "b7b4bf3f-0059-445d-b398-dc5acc145152",
   "metadata": {},
   "outputs": [
    {
     "data": {
      "text/html": [
       "<div>\n",
       "<style scoped>\n",
       "    .dataframe tbody tr th:only-of-type {\n",
       "        vertical-align: middle;\n",
       "    }\n",
       "\n",
       "    .dataframe tbody tr th {\n",
       "        vertical-align: top;\n",
       "    }\n",
       "\n",
       "    .dataframe thead th {\n",
       "        text-align: right;\n",
       "    }\n",
       "</style>\n",
       "<table border=\"1\" class=\"dataframe\">\n",
       "  <thead>\n",
       "    <tr style=\"text-align: right;\">\n",
       "      <th></th>\n",
       "      <th>default</th>\n",
       "      <th>y</th>\n",
       "    </tr>\n",
       "  </thead>\n",
       "  <tbody>\n",
       "    <tr>\n",
       "      <th>0</th>\n",
       "      <td>no</td>\n",
       "      <td>4445</td>\n",
       "    </tr>\n",
       "    <tr>\n",
       "      <th>1</th>\n",
       "      <td>yes</td>\n",
       "      <td>76</td>\n",
       "    </tr>\n",
       "  </tbody>\n",
       "</table>\n",
       "</div>"
      ],
      "text/plain": [
       "  default     y\n",
       "0      no  4445\n",
       "1     yes    76"
      ]
     },
     "execution_count": 27,
     "metadata": {},
     "output_type": "execute_result"
    }
   ],
   "source": [
    "df.groupby('default')['y'].count().reset_index()"
   ]
  },
  {
   "cell_type": "code",
   "execution_count": 28,
   "id": "2e2ae51a-5878-4d3c-a605-d4463d880071",
   "metadata": {},
   "outputs": [
    {
     "data": {
      "text/html": [
       "<div>\n",
       "<style scoped>\n",
       "    .dataframe tbody tr th:only-of-type {\n",
       "        vertical-align: middle;\n",
       "    }\n",
       "\n",
       "    .dataframe tbody tr th {\n",
       "        vertical-align: top;\n",
       "    }\n",
       "\n",
       "    .dataframe thead th {\n",
       "        text-align: right;\n",
       "    }\n",
       "</style>\n",
       "<table border=\"1\" class=\"dataframe\">\n",
       "  <thead>\n",
       "    <tr style=\"text-align: right;\">\n",
       "      <th></th>\n",
       "      <th>loan</th>\n",
       "      <th>y</th>\n",
       "    </tr>\n",
       "  </thead>\n",
       "  <tbody>\n",
       "    <tr>\n",
       "      <th>0</th>\n",
       "      <td>no</td>\n",
       "      <td>0.124804</td>\n",
       "    </tr>\n",
       "    <tr>\n",
       "      <th>1</th>\n",
       "      <td>yes</td>\n",
       "      <td>0.062229</td>\n",
       "    </tr>\n",
       "  </tbody>\n",
       "</table>\n",
       "</div>"
      ],
      "text/plain": [
       "  loan         y\n",
       "0   no  0.124804\n",
       "1  yes  0.062229"
      ]
     },
     "execution_count": 28,
     "metadata": {},
     "output_type": "execute_result"
    }
   ],
   "source": [
    "df.groupby('loan')['y'].mean().reset_index()"
   ]
  },
  {
   "cell_type": "code",
   "execution_count": 29,
   "id": "25ff1d57-6fff-4c82-a6f2-12ab215e9732",
   "metadata": {},
   "outputs": [
    {
     "data": {
      "text/html": [
       "<div>\n",
       "<style scoped>\n",
       "    .dataframe tbody tr th:only-of-type {\n",
       "        vertical-align: middle;\n",
       "    }\n",
       "\n",
       "    .dataframe tbody tr th {\n",
       "        vertical-align: top;\n",
       "    }\n",
       "\n",
       "    .dataframe thead th {\n",
       "        text-align: right;\n",
       "    }\n",
       "</style>\n",
       "<table border=\"1\" class=\"dataframe\">\n",
       "  <thead>\n",
       "    <tr style=\"text-align: right;\">\n",
       "      <th></th>\n",
       "      <th>default</th>\n",
       "      <th>y</th>\n",
       "    </tr>\n",
       "  </thead>\n",
       "  <tbody>\n",
       "    <tr>\n",
       "      <th>0</th>\n",
       "      <td>no</td>\n",
       "      <td>0.115186</td>\n",
       "    </tr>\n",
       "    <tr>\n",
       "      <th>1</th>\n",
       "      <td>yes</td>\n",
       "      <td>0.118421</td>\n",
       "    </tr>\n",
       "  </tbody>\n",
       "</table>\n",
       "</div>"
      ],
      "text/plain": [
       "  default         y\n",
       "0      no  0.115186\n",
       "1     yes  0.118421"
      ]
     },
     "execution_count": 29,
     "metadata": {},
     "output_type": "execute_result"
    }
   ],
   "source": [
    "df.groupby('default')['y'].mean().reset_index()"
   ]
  },
  {
   "cell_type": "markdown",
   "id": "9af9c750-903f-4449-bfc7-18b1dbdfe934",
   "metadata": {},
   "source": [
    "Interessante que entre as pessoas que ficaram ou não inadimplentes, a média de adquirir o produto é a mesma, enquanto que entre as pessoas que possuem ou não empréstimo, quem \"não\" tem empréstimo tem o dobro de chances de adquirir o produto."
   ]
  },
  {
   "cell_type": "markdown",
   "id": "69afce92-ca35-456c-bab6-43a0c4c7be43",
   "metadata": {},
   "source": [
    "## 09 - Correlação de Pearson"
   ]
  },
  {
   "cell_type": "markdown",
   "id": "d9ae9e40-b750-488a-9297-0b1ac8d357c4",
   "metadata": {},
   "source": [
    "O método .corr() serve apenas para colunas numéricas, nesse caso vamos em um primeiro momento ignorar as colunas catégoricas, apesar de poder fazer um encoder para entender se há correlação também com essas colunas, mas vamos deixar para mexer nas colunas mais adiante."
   ]
  },
  {
   "cell_type": "code",
   "execution_count": 30,
   "id": "ef069cd8-5b7d-489b-9fc4-06e1437c0a6b",
   "metadata": {},
   "outputs": [
    {
     "data": {
      "text/html": [
       "<div>\n",
       "<style scoped>\n",
       "    .dataframe tbody tr th:only-of-type {\n",
       "        vertical-align: middle;\n",
       "    }\n",
       "\n",
       "    .dataframe tbody tr th {\n",
       "        vertical-align: top;\n",
       "    }\n",
       "\n",
       "    .dataframe thead th {\n",
       "        text-align: right;\n",
       "    }\n",
       "</style>\n",
       "<table border=\"1\" class=\"dataframe\">\n",
       "  <thead>\n",
       "    <tr style=\"text-align: right;\">\n",
       "      <th></th>\n",
       "      <th>age</th>\n",
       "      <th>balance</th>\n",
       "      <th>day</th>\n",
       "      <th>duration</th>\n",
       "      <th>campaign</th>\n",
       "      <th>pdays</th>\n",
       "      <th>previous</th>\n",
       "      <th>y</th>\n",
       "    </tr>\n",
       "  </thead>\n",
       "  <tbody>\n",
       "    <tr>\n",
       "      <th>0</th>\n",
       "      <td>30</td>\n",
       "      <td>1787</td>\n",
       "      <td>19</td>\n",
       "      <td>79</td>\n",
       "      <td>1</td>\n",
       "      <td>-1</td>\n",
       "      <td>0</td>\n",
       "      <td>0</td>\n",
       "    </tr>\n",
       "    <tr>\n",
       "      <th>1</th>\n",
       "      <td>33</td>\n",
       "      <td>4789</td>\n",
       "      <td>11</td>\n",
       "      <td>220</td>\n",
       "      <td>1</td>\n",
       "      <td>339</td>\n",
       "      <td>4</td>\n",
       "      <td>0</td>\n",
       "    </tr>\n",
       "    <tr>\n",
       "      <th>2</th>\n",
       "      <td>35</td>\n",
       "      <td>1350</td>\n",
       "      <td>16</td>\n",
       "      <td>185</td>\n",
       "      <td>1</td>\n",
       "      <td>330</td>\n",
       "      <td>1</td>\n",
       "      <td>0</td>\n",
       "    </tr>\n",
       "    <tr>\n",
       "      <th>3</th>\n",
       "      <td>30</td>\n",
       "      <td>1476</td>\n",
       "      <td>3</td>\n",
       "      <td>199</td>\n",
       "      <td>4</td>\n",
       "      <td>-1</td>\n",
       "      <td>0</td>\n",
       "      <td>0</td>\n",
       "    </tr>\n",
       "    <tr>\n",
       "      <th>4</th>\n",
       "      <td>59</td>\n",
       "      <td>0</td>\n",
       "      <td>5</td>\n",
       "      <td>226</td>\n",
       "      <td>1</td>\n",
       "      <td>-1</td>\n",
       "      <td>0</td>\n",
       "      <td>0</td>\n",
       "    </tr>\n",
       "    <tr>\n",
       "      <th>...</th>\n",
       "      <td>...</td>\n",
       "      <td>...</td>\n",
       "      <td>...</td>\n",
       "      <td>...</td>\n",
       "      <td>...</td>\n",
       "      <td>...</td>\n",
       "      <td>...</td>\n",
       "      <td>...</td>\n",
       "    </tr>\n",
       "    <tr>\n",
       "      <th>4516</th>\n",
       "      <td>33</td>\n",
       "      <td>-333</td>\n",
       "      <td>30</td>\n",
       "      <td>329</td>\n",
       "      <td>5</td>\n",
       "      <td>-1</td>\n",
       "      <td>0</td>\n",
       "      <td>0</td>\n",
       "    </tr>\n",
       "    <tr>\n",
       "      <th>4517</th>\n",
       "      <td>57</td>\n",
       "      <td>-3313</td>\n",
       "      <td>9</td>\n",
       "      <td>153</td>\n",
       "      <td>1</td>\n",
       "      <td>-1</td>\n",
       "      <td>0</td>\n",
       "      <td>0</td>\n",
       "    </tr>\n",
       "    <tr>\n",
       "      <th>4518</th>\n",
       "      <td>57</td>\n",
       "      <td>295</td>\n",
       "      <td>19</td>\n",
       "      <td>151</td>\n",
       "      <td>11</td>\n",
       "      <td>-1</td>\n",
       "      <td>0</td>\n",
       "      <td>0</td>\n",
       "    </tr>\n",
       "    <tr>\n",
       "      <th>4519</th>\n",
       "      <td>28</td>\n",
       "      <td>1137</td>\n",
       "      <td>6</td>\n",
       "      <td>129</td>\n",
       "      <td>4</td>\n",
       "      <td>211</td>\n",
       "      <td>3</td>\n",
       "      <td>0</td>\n",
       "    </tr>\n",
       "    <tr>\n",
       "      <th>4520</th>\n",
       "      <td>44</td>\n",
       "      <td>1136</td>\n",
       "      <td>3</td>\n",
       "      <td>345</td>\n",
       "      <td>2</td>\n",
       "      <td>249</td>\n",
       "      <td>7</td>\n",
       "      <td>0</td>\n",
       "    </tr>\n",
       "  </tbody>\n",
       "</table>\n",
       "<p>4521 rows × 8 columns</p>\n",
       "</div>"
      ],
      "text/plain": [
       "      age  balance  day  duration  campaign  pdays  previous  y\n",
       "0      30     1787   19        79         1     -1         0  0\n",
       "1      33     4789   11       220         1    339         4  0\n",
       "2      35     1350   16       185         1    330         1  0\n",
       "3      30     1476    3       199         4     -1         0  0\n",
       "4      59        0    5       226         1     -1         0  0\n",
       "...   ...      ...  ...       ...       ...    ...       ... ..\n",
       "4516   33     -333   30       329         5     -1         0  0\n",
       "4517   57    -3313    9       153         1     -1         0  0\n",
       "4518   57      295   19       151        11     -1         0  0\n",
       "4519   28     1137    6       129         4    211         3  0\n",
       "4520   44     1136    3       345         2    249         7  0\n",
       "\n",
       "[4521 rows x 8 columns]"
      ]
     },
     "execution_count": 30,
     "metadata": {},
     "output_type": "execute_result"
    }
   ],
   "source": [
    "df_num = df.select_dtypes(include='number')\n",
    "\n",
    "df_num"
   ]
  },
  {
   "cell_type": "code",
   "execution_count": 31,
   "id": "ffbbbd53-651d-474a-8dd0-48fe7e68b07f",
   "metadata": {},
   "outputs": [
    {
     "data": {
      "text/html": [
       "<div>\n",
       "<style scoped>\n",
       "    .dataframe tbody tr th:only-of-type {\n",
       "        vertical-align: middle;\n",
       "    }\n",
       "\n",
       "    .dataframe tbody tr th {\n",
       "        vertical-align: top;\n",
       "    }\n",
       "\n",
       "    .dataframe thead th {\n",
       "        text-align: right;\n",
       "    }\n",
       "</style>\n",
       "<table border=\"1\" class=\"dataframe\">\n",
       "  <thead>\n",
       "    <tr style=\"text-align: right;\">\n",
       "      <th></th>\n",
       "      <th>age</th>\n",
       "      <th>balance</th>\n",
       "      <th>day</th>\n",
       "      <th>duration</th>\n",
       "      <th>campaign</th>\n",
       "      <th>pdays</th>\n",
       "      <th>previous</th>\n",
       "      <th>y</th>\n",
       "    </tr>\n",
       "  </thead>\n",
       "  <tbody>\n",
       "    <tr>\n",
       "      <th>age</th>\n",
       "      <td>1.000000</td>\n",
       "      <td>0.083820</td>\n",
       "      <td>-0.017853</td>\n",
       "      <td>-0.002367</td>\n",
       "      <td>-0.005148</td>\n",
       "      <td>-0.008894</td>\n",
       "      <td>-0.003511</td>\n",
       "      <td>0.045092</td>\n",
       "    </tr>\n",
       "    <tr>\n",
       "      <th>balance</th>\n",
       "      <td>0.083820</td>\n",
       "      <td>1.000000</td>\n",
       "      <td>-0.008677</td>\n",
       "      <td>-0.015950</td>\n",
       "      <td>-0.009976</td>\n",
       "      <td>0.009437</td>\n",
       "      <td>0.026196</td>\n",
       "      <td>0.017905</td>\n",
       "    </tr>\n",
       "    <tr>\n",
       "      <th>day</th>\n",
       "      <td>-0.017853</td>\n",
       "      <td>-0.008677</td>\n",
       "      <td>1.000000</td>\n",
       "      <td>-0.024629</td>\n",
       "      <td>0.160706</td>\n",
       "      <td>-0.094352</td>\n",
       "      <td>-0.059114</td>\n",
       "      <td>-0.011244</td>\n",
       "    </tr>\n",
       "    <tr>\n",
       "      <th>duration</th>\n",
       "      <td>-0.002367</td>\n",
       "      <td>-0.015950</td>\n",
       "      <td>-0.024629</td>\n",
       "      <td>1.000000</td>\n",
       "      <td>-0.068382</td>\n",
       "      <td>0.010380</td>\n",
       "      <td>0.018080</td>\n",
       "      <td>0.401118</td>\n",
       "    </tr>\n",
       "    <tr>\n",
       "      <th>campaign</th>\n",
       "      <td>-0.005148</td>\n",
       "      <td>-0.009976</td>\n",
       "      <td>0.160706</td>\n",
       "      <td>-0.068382</td>\n",
       "      <td>1.000000</td>\n",
       "      <td>-0.093137</td>\n",
       "      <td>-0.067833</td>\n",
       "      <td>-0.061147</td>\n",
       "    </tr>\n",
       "    <tr>\n",
       "      <th>pdays</th>\n",
       "      <td>-0.008894</td>\n",
       "      <td>0.009437</td>\n",
       "      <td>-0.094352</td>\n",
       "      <td>0.010380</td>\n",
       "      <td>-0.093137</td>\n",
       "      <td>1.000000</td>\n",
       "      <td>0.577562</td>\n",
       "      <td>0.104087</td>\n",
       "    </tr>\n",
       "    <tr>\n",
       "      <th>previous</th>\n",
       "      <td>-0.003511</td>\n",
       "      <td>0.026196</td>\n",
       "      <td>-0.059114</td>\n",
       "      <td>0.018080</td>\n",
       "      <td>-0.067833</td>\n",
       "      <td>0.577562</td>\n",
       "      <td>1.000000</td>\n",
       "      <td>0.116714</td>\n",
       "    </tr>\n",
       "    <tr>\n",
       "      <th>y</th>\n",
       "      <td>0.045092</td>\n",
       "      <td>0.017905</td>\n",
       "      <td>-0.011244</td>\n",
       "      <td>0.401118</td>\n",
       "      <td>-0.061147</td>\n",
       "      <td>0.104087</td>\n",
       "      <td>0.116714</td>\n",
       "      <td>1.000000</td>\n",
       "    </tr>\n",
       "  </tbody>\n",
       "</table>\n",
       "</div>"
      ],
      "text/plain": [
       "               age   balance       day  duration  campaign     pdays  \\\n",
       "age       1.000000  0.083820 -0.017853 -0.002367 -0.005148 -0.008894   \n",
       "balance   0.083820  1.000000 -0.008677 -0.015950 -0.009976  0.009437   \n",
       "day      -0.017853 -0.008677  1.000000 -0.024629  0.160706 -0.094352   \n",
       "duration -0.002367 -0.015950 -0.024629  1.000000 -0.068382  0.010380   \n",
       "campaign -0.005148 -0.009976  0.160706 -0.068382  1.000000 -0.093137   \n",
       "pdays    -0.008894  0.009437 -0.094352  0.010380 -0.093137  1.000000   \n",
       "previous -0.003511  0.026196 -0.059114  0.018080 -0.067833  0.577562   \n",
       "y         0.045092  0.017905 -0.011244  0.401118 -0.061147  0.104087   \n",
       "\n",
       "          previous         y  \n",
       "age      -0.003511  0.045092  \n",
       "balance   0.026196  0.017905  \n",
       "day      -0.059114 -0.011244  \n",
       "duration  0.018080  0.401118  \n",
       "campaign -0.067833 -0.061147  \n",
       "pdays     0.577562  0.104087  \n",
       "previous  1.000000  0.116714  \n",
       "y         0.116714  1.000000  "
      ]
     },
     "execution_count": 31,
     "metadata": {},
     "output_type": "execute_result"
    }
   ],
   "source": [
    "corr = df_num.corr()\n",
    "\n",
    "corr"
   ]
  },
  {
   "cell_type": "markdown",
   "id": "409fb7b9-54e3-4ea4-b923-bdf7acb178c9",
   "metadata": {},
   "source": [
    "## 10 - Heatmap"
   ]
  },
  {
   "cell_type": "markdown",
   "id": "5858c3a1-d47e-4e3c-8186-7497f06cb2fa",
   "metadata": {},
   "source": [
    "Podemos visualizar a correlação mais facilmente usando um heatmap - mapa de calor"
   ]
  },
  {
   "cell_type": "code",
   "execution_count": 32,
   "id": "a27fb360-942d-452d-a6a5-e455e66a3990",
   "metadata": {},
   "outputs": [
    {
     "data": {
      "image/png": "[encoded data removed]",
      "text/plain": [
       "<Figure size 640x480 with 2 Axes>"
      ]
     },
     "metadata": {},
     "output_type": "display_data"
    }
   ],
   "source": [
    "sns.heatmap(corr, annot=True, fmt='.2f', cmap='coolwarm')\n",
    "plt.title('Matriz de Correlação')\n",
    "plt.show()"
   ]
  },
  {
   "cell_type": "markdown",
   "id": "7a48ad93-182e-4f2f-b38b-c15ac7d2b40d",
   "metadata": {},
   "source": [
    "Olhando através do mapa de calor podemos ver mais facilmente as correlaçõe, e parece que temos algumas interessantes, como \"duration\" e  a resposta \"y\""
   ]
  },
  {
   "cell_type": "markdown",
   "id": "ea8c072f-743b-40a3-a2a3-f56457055aa2",
   "metadata": {},
   "source": [
    "## 11 - Probabilidade Condicional"
   ]
  },
  {
   "cell_type": "markdown",
   "id": "957a6372-eff0-4dbf-9db1-8b9c46396346",
   "metadata": {},
   "source": [
    "Qual probabilidade de uma pessoa adquirir o produto e não ter tido contato antes?"
   ]
  },
  {
   "cell_type": "markdown",
   "id": "7ab2d596-1adb-4ff6-a365-594c12de198a",
   "metadata": {},
   "source": [
    "Ou seja:\n",
    "\n",
    "Queremos \"y\" = 1 (yes) e previous = 0"
   ]
  },
  {
   "cell_type": "code",
   "execution_count": 33,
   "id": "1b22764e-14df-48bd-b6e3-95135c577e1b",
   "metadata": {},
   "outputs": [
    {
     "data": {
      "text/plain": [
       "(4521, 17)"
      ]
     },
     "execution_count": 33,
     "metadata": {},
     "output_type": "execute_result"
    }
   ],
   "source": [
    "df.shape"
   ]
  },
  {
   "cell_type": "markdown",
   "id": "9a54b060-9e6a-49df-b245-a1ddb7166373",
   "metadata": {},
   "source": [
    "Total de linhas do dataset = 4521"
   ]
  },
  {
   "cell_type": "code",
   "execution_count": 34,
   "id": "4019acdd-88fc-49d8-8499-fa325bd74bb8",
   "metadata": {},
   "outputs": [
    {
     "data": {
      "text/plain": [
       "previous\n",
       "0     3705\n",
       "1      286\n",
       "2      193\n",
       "3      113\n",
       "4       78\n",
       "5       47\n",
       "6       25\n",
       "7       22\n",
       "8       18\n",
       "9       10\n",
       "12       5\n",
       "10       4\n",
       "11       3\n",
       "14       2\n",
       "24       1\n",
       "22       1\n",
       "23       1\n",
       "17       1\n",
       "18       1\n",
       "15       1\n",
       "13       1\n",
       "19       1\n",
       "20       1\n",
       "25       1\n",
       "Name: count, dtype: int64"
      ]
     },
     "execution_count": 34,
     "metadata": {},
     "output_type": "execute_result"
    }
   ],
   "source": [
    "## probabilidade de previous = 0\n",
    "\n",
    "df['previous'].value_counts()"
   ]
  },
  {
   "cell_type": "code",
   "execution_count": 35,
   "id": "948811c3-a592-43b1-969f-e24af9bb47fa",
   "metadata": {},
   "outputs": [
    {
     "data": {
      "text/plain": [
       "y\n",
       "0    4000\n",
       "1     521\n",
       "Name: count, dtype: int64"
      ]
     },
     "execution_count": 35,
     "metadata": {},
     "output_type": "execute_result"
    }
   ],
   "source": [
    "## probabilidade de y = 1\n",
    "\n",
    "df['y'].value_counts()"
   ]
  },
  {
   "cell_type": "code",
   "execution_count": 36,
   "id": "bf303096-9c58-4cf0-ac88-ce52eea449bc",
   "metadata": {},
   "outputs": [
    {
     "data": {
      "text/plain": [
       "y\n",
       "0    3368\n",
       "1     337\n",
       "Name: count, dtype: int64"
      ]
     },
     "execution_count": 36,
     "metadata": {},
     "output_type": "execute_result"
    }
   ],
   "source": [
    "df_sem_contato = df[df['previous'] == 0]\n",
    "\n",
    "df_sem_contato['y'].value_counts()"
   ]
  },
  {
   "cell_type": "markdown",
   "id": "e808bbb3-9d03-41db-aeb9-b37ef7431a84",
   "metadata": {},
   "source": [
    "Ou seja, probabilidade de não ter tido contato é igual a 81,9%, enquanto que a probabilidade de NÃO ter tido contato E adquirir o produto é de 9,10%\n",
    "\n",
    "Pois não ter tido contato são 3705 elementos, enquanto que dentro dessa população, temos que então filtrar quem adquiriu ou não, que no caso foram 337, ou seja 337/3705 e temos a probabilidade condicional."
   ]
  },
  {
   "cell_type": "markdown",
   "id": "6951be4f-8c29-4a44-8dd1-e68c82c4b445",
   "metadata": {},
   "source": [
    "## 12 - Projeto de Classificação"
   ]
  },
  {
   "cell_type": "code",
   "execution_count": 46,
   "id": "4cc5f84e-4222-41de-bf1e-f63a13ae2dc8",
   "metadata": {},
   "outputs": [],
   "source": [
    "## bibliotecas necessárias\n",
    "\n",
    "from sklearn.model_selection import train_test_split\n",
    "from sklearn.pipeline import Pipeline\n",
    "from sklearn.compose import ColumnTransformer\n",
    "from sklearn.preprocessing import StandardScaler, OneHotEncoder\n",
    "from sklearn.impute import SimpleImputer\n",
    "from sklearn.ensemble import RandomForestClassifier\n",
    "from sklearn.metrics import accuracy_score, classification_report\n",
    "from sklearn.feature_selection import SelectKBest, f_classif\n",
    "from sklearn.model_selection import GridSearchCV"
   ]
  },
  {
   "cell_type": "markdown",
   "id": "1f0879d8-5d6f-4fc8-8fa2-bcbf2efd735a",
   "metadata": {},
   "source": [
    "### 12.1 - Separação do Dataset"
   ]
  },
  {
   "cell_type": "code",
   "execution_count": 47,
   "id": "f286a0d9-6e65-47ff-b14a-e966ac6e2ee1",
   "metadata": {},
   "outputs": [],
   "source": [
    "## rename da coluna 'y' para evitar confusão\n",
    "\n",
    "df.rename(columns={'y': 'alvo'}, inplace=True)"
   ]
  },
  {
   "cell_type": "code",
   "execution_count": 48,
   "id": "bf6e5501-d5ad-4e60-9b63-12c4a5f73e12",
   "metadata": {},
   "outputs": [],
   "source": [
    "## separação das features preditoras e do 'alvo'\n",
    "\n",
    "X = df.drop(columns=['alvo'])\n",
    "y = df['alvo']\n",
    "\n",
    "X_train, X_test, y_train, y_test = train_test_split(X, y, test_size = 0.2, random_state = 42, stratify=y) ## stratify para manter as proporções"
   ]
  },
  {
   "cell_type": "markdown",
   "id": "614f0fe7-ca8f-44b3-8813-cea1894398c9",
   "metadata": {},
   "source": [
    "### 12.2 - Separação de Colunas Categóricas e Numéricas"
   ]
  },
  {
   "cell_type": "code",
   "execution_count": 49,
   "id": "d06f1b83-fb0a-44b2-9f59-0e77bfdb3dff",
   "metadata": {},
   "outputs": [],
   "source": [
    "num_cols = X.select_dtypes(include='number').columns\n",
    "cat_cols = X.select_dtypes(include='O').columns"
   ]
  },
  {
   "cell_type": "markdown",
   "id": "dbe9a0b0-c6fb-4000-807e-cbfd3588ec2b",
   "metadata": {},
   "source": [
    "### 12.3 - Pipeline"
   ]
  },
  {
   "cell_type": "code",
   "execution_count": 59,
   "id": "8f8d631f-e2a0-45c2-abf3-18d187aae1bd",
   "metadata": {},
   "outputs": [
    {
     "name": "stdout",
     "output_type": "stream",
     "text": [
      "Melhores parâmetros: {'classifier__max_depth': 20, 'classifier__n_estimators': 50, 'feature_selection__k': 15}\n",
      "Accuracy: 0.8574585635359117\n",
      "              precision    recall  f1-score   support\n",
      "\n",
      "           0       0.92      0.92      0.92       801\n",
      "           1       0.38      0.38      0.38       104\n",
      "\n",
      "    accuracy                           0.86       905\n",
      "   macro avg       0.65      0.65      0.65       905\n",
      "weighted avg       0.86      0.86      0.86       905\n",
      "\n"
     ]
    }
   ],
   "source": [
    "num_pipeline = Pipeline([\n",
    "    ('imputer', SimpleImputer(strategy='median')), ## insere a mediana nos valores nulos\n",
    "    ('scaler', StandardScaler()) ## normaliza os dados para média 0 e desvio padrão 1\n",
    "])\n",
    "\n",
    "cat_pipeline = Pipeline([\n",
    "    ('imputer', SimpleImputer(strategy='most_frequent')), ## substitui nulos pelo mais frequente\n",
    "    ('encoder', OneHotEncoder(handle_unknown = 'ignore'))\n",
    "])\n",
    "\n",
    "preprocessor = ColumnTransformer([\n",
    "    ('num', num_pipeline, num_cols),\n",
    "    ('cat', cat_pipeline, cat_cols)\n",
    "])\n",
    "\n",
    "pipeline = Pipeline([\n",
    "    ('preprocessor', preprocessor),\n",
    "    ('feature_selection', SelectKBest(score_func = f_classif)), ## o 'k' será otimizado no GridSearch\n",
    "    ('classifier', RandomForestClassifier(n_estimators=100, class_weight='balanced', random_state = 42))\n",
    "])\n",
    "\n",
    "param_grid = {\n",
    "    'feature_selection__k' : [5, 10, 15], ## testar diferentes quantidades de features\n",
    "    'classifier__n_estimators' : [50, 100, 150, 200], ## número de árvores na RandomForest\n",
    "    'classifier__max_depth' : [None, 10, 20] ## profundidade máxima das árvores\n",
    "}\n",
    "\n",
    "grid_search = GridSearchCV(pipeline, param_grid, cv = 5, scoring = 'accuracy', n_jobs = -1)\n",
    "\n",
    "## treinar o gridsearch\n",
    "\n",
    "grid_search.fit(X_train, y_train)\n",
    "\n",
    "## melhor modelo\n",
    "\n",
    "print(f'Melhores parâmetros: {grid_search.best_params_}')\n",
    "\n",
    "## Avaliação no conjunto de teste\n",
    "y_pred = grid_search.best_estimator_.predict(X_test)\n",
    "print(\"Accuracy:\", accuracy_score(y_test, y_pred))\n",
    "print(classification_report(y_test, y_pred))"
   ]
  },
  {
   "cell_type": "markdown",
   "id": "afd404c8-c199-426a-8112-c6f76e6e8059",
   "metadata": {},
   "source": [
    "O modelo mostra resultados que podem ser trabalhados, podemos ver que para classe '0' que é maioria, o modelo funcionou muito bem, com uma precisão de 92%, enquanto que para a classe '1' a precisão caiu para 38%, ou seja, provavelmente se implantarmos um ClassWeight poderiamos verificar alguma melhoria, em uma análise adicional também poderíamos mexer nos Thresholds."
   ]
  },
  {
   "cell_type": "markdown",
   "id": "b69805f2-8f0d-4df1-ac93-f80110f731c0",
   "metadata": {},
   "source": [
    "### 12.4 - Matriz de Confusão"
   ]
  },
  {
   "cell_type": "code",
   "execution_count": 60,
   "id": "02ef455c-20e0-40e1-9825-2d95b4305845",
   "metadata": {},
   "outputs": [],
   "source": [
    "from sklearn.metrics import confusion_matrix, roc_curve, auc"
   ]
  },
  {
   "cell_type": "code",
   "execution_count": 61,
   "id": "23ce1b48-392c-47b3-9007-0a76545a1379",
   "metadata": {},
   "outputs": [
    {
     "data": {
      "image/png": "[encoded data removed]",
      "text/plain": [
       "<Figure size 500x400 with 2 Axes>"
      ]
     },
     "metadata": {},
     "output_type": "display_data"
    }
   ],
   "source": [
    "cm = confusion_matrix(y_test, y_pred)\n",
    "\n",
    "## gráfico\n",
    "plt.figure(figsize=(5,4))\n",
    "sns.heatmap(cm, annot=True, fmt=\"d\", cmap=\"Blues\", xticklabels=[0,1], yticklabels=[0,1])\n",
    "plt.xlabel(\"Predito\")\n",
    "plt.ylabel(\"Real\")\n",
    "plt.title(\"Matriz de Confusão\")\n",
    "plt.show()"
   ]
  },
  {
   "cell_type": "markdown",
   "id": "eaa71968-60a3-41b5-a69f-e1c4a515f33c",
   "metadata": {},
   "source": [
    "Como dissemos anteriormente, nosso modelo está errando muito em predizer quem faz parte da classe minoritária, cometendo Erro Tip II, Falso Negativo, modelo prevê que o dado pertence a classe majoritária, mas na verdade ele pertence a classe minoritária.\n",
    "Muito possivelmente, pelo fato do dataset ser desbalanceado, ele pode causar esse viés no modelo."
   ]
  },
  {
   "cell_type": "code",
   "execution_count": 62,
   "id": "388418c8-53a7-40e6-a3bf-a8e098684a48",
   "metadata": {},
   "outputs": [
    {
     "data": {
      "image/png": "[encoded data removed]",
      "text/plain": [
       "<Figure size 600x500 with 1 Axes>"
      ]
     },
     "metadata": {},
     "output_type": "display_data"
    }
   ],
   "source": [
    "# Obter probabilidades da classe positiva\n",
    "y_prob = grid_search.best_estimator_.predict_proba(X_test)[:, 1]\n",
    "\n",
    "# Calcular ROC e AUC\n",
    "fpr, tpr, _ = roc_curve(y_test, y_prob)\n",
    "roc_auc = auc(fpr, tpr)\n",
    "\n",
    "# Plotar curva ROC\n",
    "plt.figure(figsize=(6,5))\n",
    "plt.plot(fpr, tpr, color='blue', lw=2, label=f'ROC curve (AUC = {roc_auc:.2f})')\n",
    "plt.plot([0, 1], [0, 1], color='gray', linestyle='--')  # Linha de referência\n",
    "plt.xlim([0.0, 1.0])\n",
    "plt.ylim([0.0, 1.05])\n",
    "plt.xlabel('Taxa de Falsos Positivos (FPR)')\n",
    "plt.ylabel('Taxa de Verdadeiros Positivos (TPR)')\n",
    "plt.title('Curva ROC')\n",
    "plt.legend(loc='lower right')\n",
    "plt.show()"
   ]
  },
  {
   "cell_type": "markdown",
   "id": "cdf026b0-f6e1-45c8-931f-1aa4096300df",
   "metadata": {},
   "source": [
    "AUC em 0.80, ou seja, modelo com margem de melhoria - esse gráfico nos mostra como o modelo está separando as classes."
   ]
  }
 ],
 "metadata": {
  "kernelspec": {
   "display_name": "Python 3 (ipykernel)",
   "language": "python",
   "name": "python3"
  },
  "language_info": {
   "codemirror_mode": {
    "name": "ipython",
    "version": 3
   },
   "file_extension": ".py",
   "mimetype": "text/x-python",
   "name": "python",
   "nbconvert_exporter": "python",
   "pygments_lexer": "ipython3",
   "version": "3.8.18"
  }
 },
 "nbformat": 4,
 "nbformat_minor": 5
}
